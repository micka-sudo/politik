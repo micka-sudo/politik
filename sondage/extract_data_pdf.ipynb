{
 "cells": [
  {
   "cell_type": "markdown",
   "metadata": {
    "collapsed": true
   },
   "source": [
    "# Extract data to pdf"
   ]
  },
  {
   "cell_type": "markdown",
   "metadata": {},
   "source": [
    "## Import Librairies\n",
    "\n"
   ]
  },
  {
   "cell_type": "code",
   "execution_count": 1,
   "metadata": {
    "ExecuteTime": {
     "end_time": "2021-11-18T10:13:16.834294Z",
     "start_time": "2021-11-18T10:13:16.154297Z"
    }
   },
   "outputs": [],
   "source": [
    "import pandas as pd\n",
    "import pdfplumber"
   ]
  },
  {
   "cell_type": "markdown",
   "metadata": {},
   "source": [
    "## Load pdf"
   ]
  },
  {
   "cell_type": "code",
   "execution_count": 2,
   "metadata": {
    "ExecuteTime": {
     "end_time": "2021-11-18T10:13:16.849794Z",
     "start_time": "2021-11-18T10:13:16.836293Z"
    }
   },
   "outputs": [],
   "source": [
    "path = \"./pdf/novembre_2021/9241-p-hi-challenges-v22.pdf\""
   ]
  },
  {
   "cell_type": "code",
   "execution_count": 7,
   "metadata": {
    "ExecuteTime": {
     "end_time": "2021-11-18T10:14:04.713797Z",
     "start_time": "2021-11-18T10:13:59.811801Z"
    }
   },
   "outputs": [
    {
     "name": "stdout",
     "output_type": "stream",
     "text": [
      "                                                   0\n",
      "0                                                  0\n",
      "1  [[Taille de l’échantillon, 5% ou 95%, 10% ou 9...\n",
      "                                                   0\n",
      "0                                                  0\n",
      "1  [[SEXE, Brut, Redressé], [None, None, 48], [No...\n",
      "                                                   0\n",
      "0                                                  0\n",
      "1  [[VOTE AU 1ER TOUR DE L’ÉLECTION PRÉSIDENTIELL...\n",
      "                                                   0\n",
      "0                                                  0\n",
      "1  [[CERTITUDE D’ALLER VOTER AU PREMIER TOUR DE L...\n",
      "                                                   0\n",
      "0                                                  0\n",
      "1  [[CERTITUDE D’ALLER VOTER AU SECOND TOUR DE L’...\n",
      "                                                   0\n",
      "0                                                  0\n",
      "1  [[Candidats, Xavier \\nBertrand, Valérie \\nPécr...\n",
      "                                                   0\n",
      "0                                                  0\n",
      "1  [[, Vote au 1er tour de l’élection présidentie...\n",
      "                                                   0\n",
      "0                                                  0\n",
      "1  [[, Sexe, None, Age, None, None, None, None, C...\n",
      "                                                   0\n",
      "0                                                  0\n",
      "1  [[, Vote au 1er tour de l’élection présidentie...\n",
      "                                                   0\n",
      "0                                                  0\n",
      "1  [[, Vote au 1er tour de l’élection présidentie...\n",
      "                                                   0\n",
      "0                                                  0\n",
      "1  [[Candidats, Éric Zemmour, Marine Le Pen, Xavi...\n",
      "                                                   0\n",
      "0                                                  0\n",
      "1  [[42, 57], [40, 59], [35, 64], [34, 65], [34, ...\n",
      "                                                   0\n",
      "0                                                  0\n",
      "1  [[Ensemble, Symp. LFI/PCF, Symp. PS, Symp. EEL...\n",
      "                                                   0\n",
      "0                                                  0\n",
      "1  [[Ensemble, Symp. LFI/PCF, Symp. PS, Symp. EEL...\n",
      "                                                   0\n",
      "0                                                  0\n",
      "1  [[Ensemble, Symp. LFI/PCF, Symp. PS, Symp. EEL...\n"
     ]
    }
   ],
   "source": [
    "pdf = pdfplumber.open(path)\n",
    "\n",
    "for page in pdf.pages:\n",
    "    for table in enumerate(page.extract_tables()):\n",
    "        print(pd.DataFrame(table))"
   ]
  },
  {
   "cell_type": "code",
   "execution_count": 8,
   "metadata": {
    "ExecuteTime": {
     "end_time": "2021-11-18T10:26:48.606797Z",
     "start_time": "2021-11-18T10:26:48.595797Z"
    }
   },
   "outputs": [
    {
     "data": {
      "text/plain": [
       "{'Title': 'PowerPoint Presentation',\n",
       " 'Author': 'Jillian Bass',\n",
       " 'CreationDate': \"D:20211116194818+01'00'\",\n",
       " 'ModDate': \"D:20211116194818+01'00'\",\n",
       " 'Producer': 'Microsoft® PowerPoint® pour Microsoft\\xa0365',\n",
       " 'Creator': 'Microsoft® PowerPoint® pour Microsoft\\xa0365'}"
      ]
     },
     "execution_count": 8,
     "metadata": {},
     "output_type": "execute_result"
    }
   ],
   "source": [
    "pdf.metadata"
   ]
  },
  {
   "cell_type": "code",
   "execution_count": 9,
   "metadata": {
    "ExecuteTime": {
     "end_time": "2021-11-18T10:28:00.213297Z",
     "start_time": "2021-11-18T10:28:00.208295Z"
    }
   },
   "outputs": [
    {
     "data": {
      "text/plain": [
       "[<Page:1>,\n",
       " <Page:2>,\n",
       " <Page:3>,\n",
       " <Page:4>,\n",
       " <Page:5>,\n",
       " <Page:6>,\n",
       " <Page:7>,\n",
       " <Page:8>,\n",
       " <Page:9>,\n",
       " <Page:10>,\n",
       " <Page:11>,\n",
       " <Page:12>,\n",
       " <Page:13>,\n",
       " <Page:14>,\n",
       " <Page:15>,\n",
       " <Page:16>,\n",
       " <Page:17>,\n",
       " <Page:18>,\n",
       " <Page:19>,\n",
       " <Page:20>,\n",
       " <Page:21>,\n",
       " <Page:22>,\n",
       " <Page:23>,\n",
       " <Page:24>,\n",
       " <Page:25>,\n",
       " <Page:26>,\n",
       " <Page:27>,\n",
       " <Page:28>,\n",
       " <Page:29>,\n",
       " <Page:30>,\n",
       " <Page:31>,\n",
       " <Page:32>,\n",
       " <Page:33>,\n",
       " <Page:34>,\n",
       " <Page:35>,\n",
       " <Page:36>,\n",
       " <Page:37>,\n",
       " <Page:38>,\n",
       " <Page:39>,\n",
       " <Page:40>,\n",
       " <Page:41>,\n",
       " <Page:42>,\n",
       " <Page:43>,\n",
       " <Page:44>,\n",
       " <Page:45>,\n",
       " <Page:46>,\n",
       " <Page:47>,\n",
       " <Page:48>,\n",
       " <Page:49>,\n",
       " <Page:50>,\n",
       " <Page:51>,\n",
       " <Page:52>,\n",
       " <Page:53>,\n",
       " <Page:54>,\n",
       " <Page:55>,\n",
       " <Page:56>,\n",
       " <Page:57>,\n",
       " <Page:58>,\n",
       " <Page:59>]"
      ]
     },
     "execution_count": 9,
     "metadata": {},
     "output_type": "execute_result"
    }
   ],
   "source": [
    "pdf.pages"
   ]
  },
  {
   "cell_type": "code",
   "execution_count": null,
   "metadata": {},
   "outputs": [],
   "source": []
  }
 ],
 "metadata": {
  "kernelspec": {
   "display_name": "Python 3 (ipykernel)",
   "language": "python",
   "name": "python3"
  },
  "language_info": {
   "codemirror_mode": {
    "name": "ipython",
    "version": 3
   },
   "file_extension": ".py",
   "mimetype": "text/x-python",
   "name": "python",
   "nbconvert_exporter": "python",
   "pygments_lexer": "ipython3",
   "version": "3.9.7"
  },
  "toc": {
   "base_numbering": 1,
   "nav_menu": {},
   "number_sections": true,
   "sideBar": true,
   "skip_h1_title": false,
   "title_cell": "Table of Contents",
   "title_sidebar": "Contents",
   "toc_cell": false,
   "toc_position": {},
   "toc_section_display": true,
   "toc_window_display": false
  },
  "varInspector": {
   "cols": {
    "lenName": 16,
    "lenType": 16,
    "lenVar": 40
   },
   "kernels_config": {
    "python": {
     "delete_cmd_postfix": "",
     "delete_cmd_prefix": "del ",
     "library": "var_list.py",
     "varRefreshCmd": "print(var_dic_list())"
    },
    "r": {
     "delete_cmd_postfix": ") ",
     "delete_cmd_prefix": "rm(",
     "library": "var_list.r",
     "varRefreshCmd": "cat(var_dic_list()) "
    }
   },
   "types_to_exclude": [
    "module",
    "function",
    "builtin_function_or_method",
    "instance",
    "_Feature"
   ],
   "window_display": false
  }
 },
 "nbformat": 4,
 "nbformat_minor": 1
}
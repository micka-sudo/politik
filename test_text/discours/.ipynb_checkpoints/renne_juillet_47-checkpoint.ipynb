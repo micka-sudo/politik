{
 "cells": [
  {
   "cell_type": "markdown",
   "id": "df8ac90f",
   "metadata": {
    "ExecuteTime": {
     "end_time": "2021-11-17T08:48:42.799137Z",
     "start_time": "2021-11-17T08:48:42.783634Z"
    }
   },
   "source": [
    "## Convert pdf to text"
   ]
  },
  {
   "cell_type": "markdown",
   "id": "fe5fa521",
   "metadata": {},
   "source": [
    "### Import librairy"
   ]
  },
  {
   "cell_type": "code",
   "execution_count": 2,
   "id": "5ea41dc3",
   "metadata": {
    "ExecuteTime": {
     "end_time": "2021-11-17T08:50:56.285142Z",
     "start_time": "2021-11-17T08:50:55.858134Z"
    }
   },
   "outputs": [],
   "source": [
    "import pdfminer\n",
    "import io\n",
    "from pdfminer.converter import TextConverter\n",
    "from pdfminer.pdfinterp import PDFPageInterpreter\n",
    "from pdfminer.pdfinterp import PDFResourceManager\n",
    "from pdfminer.pdfpage import PDFPage"
   ]
  },
  {
   "cell_type": "markdown",
   "id": "7424c7cf",
   "metadata": {},
   "source": [
    "### Creat convert function"
   ]
  },
  {
   "cell_type": "code",
   "execution_count": null,
   "id": "563df809",
   "metadata": {},
   "outputs": [],
   "source": []
  }
 ],
 "metadata": {
  "kernelspec": {
   "display_name": "Python 3 (ipykernel)",
   "language": "python",
   "name": "python3"
  },
  "language_info": {
   "codemirror_mode": {
    "name": "ipython",
    "version": 3
   },
   "file_extension": ".py",
   "mimetype": "text/x-python",
   "name": "python",
   "nbconvert_exporter": "python",
   "pygments_lexer": "ipython3",
   "version": "3.9.7"
  },
  "toc": {
   "base_numbering": 1,
   "nav_menu": {},
   "number_sections": true,
   "sideBar": true,
   "skip_h1_title": false,
   "title_cell": "Table of Contents",
   "title_sidebar": "Contents",
   "toc_cell": false,
   "toc_position": {},
   "toc_section_display": true,
   "toc_window_display": false
  },
  "varInspector": {
   "cols": {
    "lenName": 16,
    "lenType": 16,
    "lenVar": 40
   },
   "kernels_config": {
    "python": {
     "delete_cmd_postfix": "",
     "delete_cmd_prefix": "del ",
     "library": "var_list.py",
     "varRefreshCmd": "print(var_dic_list())"
    },
    "r": {
     "delete_cmd_postfix": ") ",
     "delete_cmd_prefix": "rm(",
     "library": "var_list.r",
     "varRefreshCmd": "cat(var_dic_list()) "
    }
   },
   "types_to_exclude": [
    "module",
    "function",
    "builtin_function_or_method",
    "instance",
    "_Feature"
   ],
   "window_display": false
  }
 },
 "nbformat": 4,
 "nbformat_minor": 5
}

{
 "cells": [
  {
   "cell_type": "markdown",
   "id": "4a91fc67",
   "metadata": {
    "ExecuteTime": {
     "end_time": "2021-11-17T08:48:42.799137Z",
     "start_time": "2021-11-17T08:48:42.783634Z"
    }
   },
   "source": [
    "## Convert pdf to text"
   ]
  },
  {
   "cell_type": "markdown",
   "id": "1b629e24",
   "metadata": {},
   "source": [
    "### Import librairy"
   ]
  },
  {
   "cell_type": "code",
   "execution_count": 1,
   "id": "1795624a",
   "metadata": {
    "ExecuteTime": {
     "end_time": "2021-11-17T09:37:23.684738Z",
     "start_time": "2021-11-17T09:37:23.487243Z"
    }
   },
   "outputs": [],
   "source": [
    "import pdfminer\n",
    "import io\n",
    "from pdfminer.converter import TextConverter\n",
    "from pdfminer.pdfinterp import PDFPageInterpreter\n",
    "from pdfminer.pdfinterp import PDFResourceManager\n",
    "from pdfminer.pdfpage import PDFPage"
   ]
  },
  {
   "cell_type": "markdown",
   "id": "9e1da3a0",
   "metadata": {},
   "source": [
    "### Creat convert function"
   ]
  },
  {
   "cell_type": "code",
   "execution_count": 2,
   "id": "3f3e57c8",
   "metadata": {
    "ExecuteTime": {
     "end_time": "2021-11-17T09:37:24.753243Z",
     "start_time": "2021-11-17T09:37:24.736241Z"
    }
   },
   "outputs": [],
   "source": [
    "def extract_text_from_pdf(pdf_path):\n",
    "    resource_manager = PDFResourceManager()\n",
    "    fake_file_handle = io.StringIO()\n",
    "    converter = TextConverter(resource_manager, fake_file_handle)\n",
    "    page_interpreter = PDFPageInterpreter(resource_manager, converter)\n",
    "    with open(pdf_path, 'rb') as fh:\n",
    "        for page in PDFPage.get_pages(fh, \n",
    "                                      caching=True,\n",
    "                                      check_extractable=True):\n",
    "            page_interpreter.process_page(page)\n",
    "        text = fake_file_handle.getvalue()\n",
    "    # close open handles\n",
    "    converter.close()\n",
    "    fake_file_handle.close()\n",
    "    if text:\n",
    "        return text"
   ]
  },
  {
   "cell_type": "markdown",
   "id": "34b9b1c9",
   "metadata": {},
   "source": [
    "### Test"
   ]
  },
  {
   "cell_type": "code",
   "execution_count": 3,
   "id": "3821ece7",
   "metadata": {
    "ExecuteTime": {
     "end_time": "2021-11-17T09:37:26.101739Z",
     "start_time": "2021-11-17T09:37:25.681741Z"
    }
   },
   "outputs": [
    {
     "name": "stdout",
     "output_type": "stream",
     "text": [
      "Discours de Rennes, 27 juillet 1947   Parlant au terrain de la Croix-Rouge, le général de Gaulle inaugure la série des discours par lesquels il va appeler les Français à se rassembler et dénonce le péril communiste, tel qu'il vient de se manifester à l'occasion de la Conférence de Paris et du Plan Marshall  Au milieu de la confusion d'une vie tourmentée, rien n'importe plus au peuple français que de regarder en face les causes profondes de son inquiétude, afin d'y voir clair sur la route qu'il lui faut suivre. Son unité ébranlée, alors qu'il est en proie aux pires difficultés intérieures, qu'il voit se dessiner au-dehors une situation dangereuse et qu'il mesure l'impuissance du régime qui s'est chargé de le guider, voilà - tous le sentent, même si certains refusent de l'avouer - pourquoi ce n'est pas sans trouble que la France interroge l'horizon. L'unité de la nation, c'est-à-dire la volonté commune des Français d'être et de rester Français, quoi qu'il arrive, avait, au cours du drame récent, couru de mortels périls. Du jour même où des gouvernants, désespérant de la patrie, de l'Empire et du monde libre, signaient avec l'ennemi le pacte de capitulation, ce n'étaient pas seulement l'honneur et l'indépendance du pays qui risquaient d'être perdus. L'unité - ce bien suprême, sans lequel une nation ne saurait subsister - était, elle aussi, menacée. Si notre peuple avait, en effet, accepté de se soumettre, il ne fût, en aucune hypothèse, sorti du drame autrement que vaincu. Qu'Hitler l'emportât, et notre avenir était la servitude. Qu'il succombât, et la France, frappée d'un complexe affreux d'abaissement et d'humiliation, s'en fût indéfiniment prise à elle-même de ses malheurs et, déchirée en clans furieux, n'aurait plus été qu'une terre d'impuissance et d'anarchie. Inutile d'ajouter qu'elle n'eût pas gardé la moindre chance de conserver l'Empire. Le fait que, sans perdre un jour, certains de ses fils aient décidé de remonter la pente, a non seulement contribué à l'écrasement de l'ennemi mais encore sauvegardé l'unité nationale. La Bretagne, dont les enfants ont pris si largement part à la lutte pour le salut, savait quel était l'enjeu. Elle comprend aujourd'hui ce que vaut la réussite. Rennes, ici rassemblé, se charge de le démontrer. Mais, si l'unité nationale put être maintenue malgré ceux qui avaient accepté la loi de Hitler, tout le monde sent qu'elle est aujourd'hui et de nouveau en péril. Je dis qu'elle est en péril par le fait d'un groupement d'hommes, dont ceux qui les mènent placent au-dessus de tout le service d'un État étranger. Je le dis avec d'autant plus de force que j'ai moi-même, comme c'était mon devoir, essayé, jusqu'aux limites du licite et du possible, de les attirer vers le service de la France. Oui ! A la Libération, j'avais, avec la Résistance tout entière, jugé qu'il fallait offrir à ces \"séparatistes\" l'occasion de s'intégrer dans la communauté nationale. Les événements terribles de la guerre avaient fait que beaucoup de ceux qui écoutaient les dirigeants de cet étrange parti avaient pris une part active à la lutte contre les ennemis de la France. Sans doute, les maîtres de leur jeu ne s'y étaient-ils eux-mêmes décidés qu'à partir de l'invasion allemande en Russie des Soviets. Sans doute l'avaient-ils fait en s'appliquant à mener un effort autonome, sinon séparé. Sans doute, cherchaient-ils à exploiter, en faveur exclusive de leur propagande et de leur politique, les actions de Défense nationale auxquelles étaient mêlés ceux des Français qui, de près ou de loin, subissaient leur influence. Mais ces Français-là avaient lutté, enduré les persécutions, essuyé de lourdes pertes, en même temps, sur les mêmes terrains, contre les mêmes adversaires, que nos autres combattants. Il en était résulté entre tous un rapprochement, une fusion, une camaraderie, par quoi, dans la dure lutte commune, ils se reconnaissaient comme les enfants de cette même patrie, à l'appel de laquelle ils avaient répondu et qu'ils confessaient et acclamaient ensemble, dans les cachots, sur les champs de bataille ou aux poteaux d'exécution. Pouvait-on négliger une seule chance \f",
      "d'aider cette conscience salutaire à se maintenir désormais ? D'ailleurs, les nécessités immédiates de notre reconstruction, l'intérêt supérieur qu'il y avait pour la France à se présenter dans les conseils internationaux comme une nation rassemblée, le fait que la Russie n'avait pas encore commencé à suivre une autre voie que celle des peuples libres, tout cela mettait la raison d'État d'accord avec le sentiment pour essayer de faire rentrer moralement dans le giron de la France ceux qui, naguère, en étaient sortis pour suivre l'appel du dehors. J'ai joué ce jeu. Je l'ai joué carrément. J'ai introduit des hommes de cette sorte dans le Gouvernement qui réunissait alors des représentants de toutes les opinions. Pour ce que j'en attendais momentanément, pendant la période si difficile et si démunie qui encadra et qui suivit la Libération, cette décision a atteint son but. Mais, aujourd'hui, tout donne à penser que ceux à qui fut ouverte toute grande la voie du service national ont choisi d'en suivre une autre. Car, voici où nous en sommes : sur notre sol, au milieu de nous, des hommes ont fait voeu d'obéissance aux ordres d'une entreprise étrangère de domination, dirigée par les maîtres d'une grande puissance slave. Ils ont pour but de parvenir à la dictature chez nous, comme leurs semblables ont pu réussir a le faire ailleurs avec l'appui de cette puissance. Pour eux, qui invoquent à grands cris la justice sociale et l'affranchissement des masses, il s'agit, en réalité, de plier notre beau pays à un régime de servitude totalitaire, où chaque Français ne disposerait plus ni de son corps, ni de son âme, et par lequel la France elle-même deviendrait l'auxiliaire soumise d'une colossale hégémonie. Pour atteindre leurs fins, il n'y a pas de moyens que ces hommes n'emploient. Suivant l'opportunité, on les voit préconiser des thèses aussi catégoriques que successives et contradictoires. Il n'existe pas une idée, un sentiment, un intérêt, qu'ils n'utilisent tour à tour. L'ordre ou la révolution, la production ou l'arrêt du travail, la liberté ou la contrainte, sont affichés dans leur programme et inscrits sur leurs bannières suivant ce qui leur paraît devoir être de meilleur rapport. Point de grande oeuvre, de noble figure, de gloire nationale, qu'ils n'aient parfois maudite et parfois accaparée. Vis-à-vis des idées, des actes, de la personne des autres, rien qui approche de l'équité, ni de la vérité ; seule compte l'utilité que dans l'instant, ils leur attribuent. Suivant qu'ils croient, ou qu'ils ne croient pas, pouvoir en tirer quelque chose, c'est tantôt la bonne grâce, la flatterie, la main tendue, et tantôt l'injure, la calomnie, la menace. Mais, à travers les méandres compliqués de leurs procédés, apparaissent l'habileté à tromper leur clientèle et l'acharnement à se placer dans les postes et dans les conditions où l'on peut le mieux agir et, surtout, il ne semble que trop ! le plan arrêté de développer dans tout le corps de la nation cette confusion qui la rendrait plus accessible à leur entreprise. Tout se passe, en effet, comme si, en revendiquant bruyamment l'union des républicains, le progrès social, l'indépendance nationale, ce groupement n'agissait, en fait, que pour aggraver sans relâche les difficultés multiples dans lesquelles la France se débat. Alors qu'il nous est si difficile de créer parmi nous un climat de concorde, le parti dont il s'agit ne cesse de jeter du sel sur chacune de nos plaies et d'ameuter les unes contre les autres les diverses catégories françaises. Alors que nous éprouvons tant de peine à nous doter d'institutions adaptées aux temps modernes, ces bons apôtres, jouant de l'illusion des uns et de l'inconsistance des autres, ont réussi à pousser la République dans un régime d'impuissance. Alors que nous avons tant de mal à trouver un équilibre économique, social, financier sur lequel nous puissions bâtir notre reconstruction, ces hommes interviennent aux moments et sous la forme les mieux appropriés pour jeter à bas l'édifice à mesure qu'il se construit. Alors que nous devons, sous peine d'en être dépouillés, faire l'Union française de telle sorte qu'elle soit une union et qu'elle soit française, ces gens travaillent, soit sur place, soit à Paris, pour soulever de frustes passions et saper l'autorité de la France. Alors que notre \f",
      "avenir est engagé dans une partie internationale très dangereuse et que se forme en Europe, par la force, un énorme bloc oriental, ces personnages ne se manifestent que pour soutenir parmi nous, exclusivement et avec fracas, les seules positions, les seules intentions, les seuls intérêts, de la Russie soviétique. Or, la faille profonde dont, par leur fait, est menacée l'unité française est d'autant plus grave et d'autant moins tolérable qu'elle se produit précisément en conjonction avec la situation extérieure créée par l'action de la Russie soviétique et dont le moins qu'on puisse en dire est qu'elle est nettement alarmante. Et cependant, quand, sous les coups des armées alliées, le Reich d'Hitler se voyait envahi par l'Ouest et par l'Est, une grande espérance s'était emparée du monde. Chacun voulait croire, alors, qu'après les terribles épreuves que subissait la race humaine, tous les États - et d'abord les plus grands - mettraient désormais à la base de leur politique la coopération entre eux et le respect des autres. C'est dans ces sentiments qu'un nombre immense d'hommes et de femmes dans l'univers saluaient les victoires russes. Sans doute y avait-il là un juste hommage rendu à la vaillante armée dont l'offensive contribuait par excellence à l'écrasement de l'ennemi et à un grand peuple qui, après de cruels revers, avait su se redresser et développer tout son effort. Mais il y avait aussi le désir de voir ce peuple, longtemps tenu dans l'isolement par son régime intérieur, prendre sa place normale dans la communauté humaine et lui apporter la puissante contribution de ses ressources et de ses aptitudes. Le succès de la Russie ne pouvait, en particulier, que réjouir la France. Certes, au long de l'Histoire il était arrivé qu'elles se fussent combattues. D'autre part, certains événements, tels que la paix séparée de Moscou avec Berlin en 1917, ou le pacte germano-soviétique du mois d'août 1939, comme aussi notre propre faiblesse à l'égard d'Hitler aux mauvais jours de Munich, avaient pu créer entre la Russie et la France de graves mésententes. Mais, depuis toujours, les deux peuples n'avaient jamais cessé d'éprouver, au fond d'eux-mêmes, une réciproque sympathie, la conscience de leur solidarité naturelle à l'égard des ambitions de l'Allemagne, le sentiment que leurs intérêts essentiels, du moment qu'ils étaient conformes aux droits des peuples et à l'équilibre, n'étaient, en rien, opposés. C'est dans cet esprit que fut orientée la politique française, dès lors qu'en 1941 l'agression allemande jeta la Russie dans le même camp que nous-mêmes. Les relations diplomatiques et militaires furent aussitôt établies entre le Gouvernement de Moscou et le Gouvernement de la Libération siégeant à Londres, puis à Alger, enfin à Paris. Dès 1941, la participation de la marine française libre aux durs convois de l'Océan Arctique, la présence sur le front russe, dès 1942, du régiment d'aviation \"Normandie\", seule unité occidentale qui combattit parmi nos alliés de l'Est et qui fut, d'ailleurs, armée et équipée par eux, symbolisaient nos intentions. En décembre 1944, la visite que je fis moi-même à Moscou, en compagnie du ministre des Affaires étrangères, au généralissime Staline et à son Gouvernement, et le pacte qui fut signé à cette occasion quant à l'action commune de la France et de la Russie à l'égard de l'Allemagne ne répondaient pas à une autre inspiration. Mais, aujourd'hui, une lourde inquiétude plane sur notre pays. En fait, les deux tiers du continent se trouvent dominés par Moscou. Je ne chercherai pas à développer ici dans quelle mesure une politique qui, à Yalta, tenta de régler hâtivement le sort de l'Europe sans l'Europe et, en particulier, sans la France, en dépit des protestations du Gouvernement de Paris, a pu contribuer à cette situation. Les choses, maintenant, sont ce qu'elles sont, c'est-à-dire fort alarmantes. Combinant sa pression militaire et économique avec l'action intérieure d'hommes qui lui sont entièrement soumis, la Russie soviétique a établi déjà, ou s'emploie à faire établir par personnes interposées, sur certains pays alliés Pologne, Yougoslavie, Albanie, ou sur certains pays vaincus : Prusse, Saxe, Roumanie, Hongrie, Bulgarie, un régime de dictature totalitaire qui n'est que la dépendance et l'émanation du sien. Par des \f",
      "moyens analogues, elle tient à sa discrétion la Tchécoslovaquie, la Finlande et pèse lourdement sur l'Autriche. En outre, elle s'est directement annexé les États baltes, ainsi que de larges territoires prélevés sur la Prusse, la Finlande, la Roumanie et la Pologne. Au total, et dans le moment même où elle affecte de tenir pour une menace tout accord qui serait librement conclu entre des nations européennes de l'Occident, la Russie soviétique organise autour d'elle, par la contrainte, un formidable groupement d'États dont il serait vraiment dérisoire de prétendre qu'aucun d'eux soit indépendant. Ce bloc de près de 400 millions d'hommes borde maintenant la Suède, la Turquie, la Grèce, l'Italie ! Sa frontière n'est séparée de la nôtre que par 500 kilomètres, soit à peine la longueur de deux étapes du tour de France cycliste ! Il écrase, à l'intérieur de lui-même, toute opinion et toute action qui ne seraient pas complètement soumises à ses dirigeants, tandis qu'il dispose dans tous les pays libres de groupements à sa dévotion. Que d'autres cherchent à se tromper eux-mêmes sur la menace que pourrait demain représenter pour notre pays une pareille agglomération menée par un pareil système ! Mais nous, qui ne rusons jamais avec la liberté des hommes ni avec l'indépendance de la France, nous disons que cet état de choses risque de mettre, tôt on tard, l'une et l'autre dans le pire danger. Je ne décrirais pas de telle manière ce qu'il y a d'inacceptable à l'intérieur et d'inquiétant à l'extérieur dans la situation de la France si je ne pensais pas que cette situation pût être transformée par la France elle-même, car autrement, il ne resterait qu'à nous livrer aux événements qui se joueraient par-dessus nos têtes. Quelques-uns, peut-être, seraient portés à s'y résigner. Mais les gens qui se résignent n'ont rien à faire dans ce pays et dans ce siècle, sinon de servir de complices au mal, en attendant qu'ils lui servent d'esclaves. Nous prétendons n'être pas de ceux-là. En réalité, notre peuple tient pour une large part son destin dans ses mains. Nous rassembler, par-dessus les divisions et les partis, pour assurer l'unité française en nous opposant vigoureusement à toutes les menées de ceux-là qui ne jouent pas le jeu de la France. En le disant, je m'adresse à tous les vrais Français, y compris ceux qui, jusqu'à présent, ont cru pouvoir en écouter d'autres, mais qui, voyant maintenant que notre patrie est en cause, ne sauraient demeurer sur le même chemin. Nous rassembler, pour développer le grand effort de production, de travail, d'entreprise, qui seul peut nous rendre la puissance et la prospérité. Nous rassembler, pour établir, entre tous ceux qui accomplissent une tâche économique, commune un régime social qui en fasse non plus du tout des adversaires, mais bien de loyaux et dignes associés. Nous rassembler, pour organiser et conserver l'Union Française en donnant à chacun de ses territoires un statut correspondant à son caractère propre et au degré de son développement, en les aidant tous à marcher avec nous vers le progrès, en y maintenant l'autorité tutélaire de la France. Nous rassembler, pour que notre pays sache s'assurer de ce qui lui est dû, en particulier dans le règlement des problèmes allemands, mais sache aussi prendre la tète de ceux qui veulent refaire l'Europe dans l'équilibre et dans la liberté, en usant, en toute indépendance, du concours qu'offrent les autres, notamment les États-Unis Nous rassembler, avant tout, pour réformer l'État républicain, le sortir de l'absurde confusion des pouvoirs dans laquelle il se débat, le rendre capable de maintenir l'unité de la nation et celle de l'Union Française, de diriger l'effort de rénovation de l'une et de l'autre, de soutenir avec netteté et fermeté les intérêts du pays vis-à-vis de l'extérieur et de prévoir son éventuelle défense. Voilà la route et le devoir ! Dans les tourments du présent, devant les inquiétudes de l'avenir, la garantie du destin de la France, c'est, une fois de plus et comme toujours, le Rassemblement du Peuple Français.  \f",
      "\n"
     ]
    }
   ],
   "source": [
    "text = extract_text_from_pdf(r'E:\\politik\\test_text\\discours\\de_gaule\\Discours-de-Rennes.pdf')\n",
    "print(text)"
   ]
  },
  {
   "cell_type": "markdown",
   "id": "872cb950",
   "metadata": {
    "ExecuteTime": {
     "end_time": "2021-11-17T09:04:08.792634Z",
     "start_time": "2021-11-17T09:04:08.784634Z"
    }
   },
   "source": [
    "## DataViz"
   ]
  },
  {
   "cell_type": "markdown",
   "id": "416f06a5",
   "metadata": {},
   "source": [
    "### Wordcloud"
   ]
  },
  {
   "cell_type": "markdown",
   "id": "f323b8e4",
   "metadata": {},
   "source": [
    "### Import librairy"
   ]
  },
  {
   "cell_type": "code",
   "execution_count": 15,
   "id": "1acd2861",
   "metadata": {
    "ExecuteTime": {
     "end_time": "2021-11-17T09:47:41.467239Z",
     "start_time": "2021-11-17T09:47:41.457742Z"
    }
   },
   "outputs": [],
   "source": [
    "from PIL import Image\n",
    "from wordcloud import ImageColorGenerator\n",
    "from wordcloud import WordCloud\n",
    "import numpy as np\n",
    "import os\n",
    "import matplotlib.image as mpimg\n",
    "from matplotlib import pyplot as plt"
   ]
  },
  {
   "cell_type": "code",
   "execution_count": 17,
   "id": "e771771e",
   "metadata": {
    "ExecuteTime": {
     "end_time": "2021-11-17T09:49:19.581740Z",
     "start_time": "2021-11-17T09:49:19.556739Z"
    }
   },
   "outputs": [
    {
     "ename": "NameError",
     "evalue": "name 'wordcloud' is not defined",
     "output_type": "error",
     "traceback": [
      "\u001b[1;31m---------------------------------------------------------------------------\u001b[0m",
      "\u001b[1;31mNameError\u001b[0m                                 Traceback (most recent call last)",
      "\u001b[1;32m~\\AppData\\Local\\Temp/ipykernel_10584/2754583891.py\u001b[0m in \u001b[0;36m<module>\u001b[1;34m\u001b[0m\n\u001b[0;32m     13\u001b[0m     \u001b[0mplt\u001b[0m\u001b[1;33m.\u001b[0m\u001b[0mshow\u001b[0m\u001b[1;33m(\u001b[0m\u001b[1;33m)\u001b[0m\u001b[1;33m\u001b[0m\u001b[1;33m\u001b[0m\u001b[0m\n\u001b[0;32m     14\u001b[0m \u001b[1;33m\u001b[0m\u001b[0m\n\u001b[1;32m---> 15\u001b[1;33m \u001b[0mplot_word_cloud\u001b[0m\u001b[1;33m(\u001b[0m\u001b[0mtext\u001b[0m\u001b[1;33m,\u001b[0m\u001b[1;34m'Nuages de motse'\u001b[0m\u001b[1;33m)\u001b[0m\u001b[1;33m\u001b[0m\u001b[1;33m\u001b[0m\u001b[0m\n\u001b[0m",
      "\u001b[1;32m~\\AppData\\Local\\Temp/ipykernel_10584/2754583891.py\u001b[0m in \u001b[0;36mplot_word_cloud\u001b[1;34m(text, title)\u001b[0m\n\u001b[0;32m      3\u001b[0m \u001b[1;31m#     mask = np.array(Image.open('coeur.png'))\u001b[0m\u001b[1;33m\u001b[0m\u001b[1;33m\u001b[0m\u001b[0m\n\u001b[0;32m      4\u001b[0m \u001b[1;31m#     # Définir le calque du nuage des mots\u001b[0m\u001b[1;33m\u001b[0m\u001b[1;33m\u001b[0m\u001b[0m\n\u001b[1;32m----> 5\u001b[1;33m     \u001b[0mwc\u001b[0m \u001b[1;33m=\u001b[0m \u001b[0mwordcloud\u001b[0m\u001b[1;33m(\u001b[0m\u001b[0mwidth\u001b[0m\u001b[1;33m=\u001b[0m\u001b[1;36m600\u001b[0m\u001b[1;33m,\u001b[0m \u001b[0mheight\u001b[0m\u001b[1;33m=\u001b[0m\u001b[1;36m600\u001b[0m\u001b[1;33m,\u001b[0m \u001b[0mbackground_color\u001b[0m\u001b[1;33m=\u001b[0m\u001b[1;34m'white'\u001b[0m\u001b[1;33m,\u001b[0m \u001b[0mmax_words\u001b[0m\u001b[1;33m=\u001b[0m\u001b[1;36m200\u001b[0m\u001b[1;33m,\u001b[0m \u001b[0mmax_font_size\u001b[0m\u001b[1;33m=\u001b[0m\u001b[1;36m90\u001b[0m\u001b[1;33m,\u001b[0m \u001b[0mcollocations\u001b[0m\u001b[1;33m=\u001b[0m\u001b[1;32mFalse\u001b[0m\u001b[1;33m,\u001b[0m \u001b[0mrandom_state\u001b[0m\u001b[1;33m=\u001b[0m\u001b[1;36m42\u001b[0m\u001b[1;33m)\u001b[0m\u001b[1;33m\u001b[0m\u001b[1;33m\u001b[0m\u001b[0m\n\u001b[0m\u001b[0;32m      6\u001b[0m \u001b[1;33m\u001b[0m\u001b[0m\n\u001b[0;32m      7\u001b[0m     \u001b[1;31m# Générer et afficher le nuage de mots\u001b[0m\u001b[1;33m\u001b[0m\u001b[1;33m\u001b[0m\u001b[0m\n",
      "\u001b[1;31mNameError\u001b[0m: name 'wordcloud' is not defined"
     ]
    }
   ],
   "source": [
    "def plot_word_cloud(text,title) :\n",
    "#     # Définir un masque\n",
    "#     mask = np.array(Image.open('coeur.png'))\n",
    "#     # Définir le calque du nuage des mots\n",
    "    wc = WordCloud(width=600, height=600, background_color='white', max_words=200, max_font_size=90, collocations=False, random_state=42)\n",
    "\n",
    "    # Générer et afficher le nuage de mots\n",
    "    plt.figure(figsize= (10,7))\n",
    "    wc.generate(text)\n",
    "    plt.imshow(wc, interpolation='bilinear')\n",
    "    plt.axis('off')\n",
    "    plt.title(title, fontsize=10, pad=10)\n",
    "    plt.show()\n",
    "    \n",
    "plot_word_cloud(text,'Nuages de motse')"
   ]
  },
  {
   "cell_type": "code",
   "execution_count": null,
   "id": "1d8761e4",
   "metadata": {},
   "outputs": [],
   "source": []
  },
  {
   "cell_type": "code",
   "execution_count": null,
   "id": "7f62f0a5",
   "metadata": {},
   "outputs": [],
   "source": []
  }
 ],
 "metadata": {
  "kernelspec": {
   "display_name": "Python 3 (ipykernel)",
   "language": "python",
   "name": "python3"
  },
  "language_info": {
   "codemirror_mode": {
    "name": "ipython",
    "version": 3
   },
   "file_extension": ".py",
   "mimetype": "text/x-python",
   "name": "python",
   "nbconvert_exporter": "python",
   "pygments_lexer": "ipython3",
   "version": "3.9.7"
  },
  "toc": {
   "base_numbering": 1,
   "nav_menu": {},
   "number_sections": true,
   "sideBar": true,
   "skip_h1_title": false,
   "title_cell": "Table of Contents",
   "title_sidebar": "Contents",
   "toc_cell": false,
   "toc_position": {},
   "toc_section_display": true,
   "toc_window_display": false
  },
  "varInspector": {
   "cols": {
    "lenName": 16,
    "lenType": 16,
    "lenVar": 40
   },
   "kernels_config": {
    "python": {
     "delete_cmd_postfix": "",
     "delete_cmd_prefix": "del ",
     "library": "var_list.py",
     "varRefreshCmd": "print(var_dic_list())"
    },
    "r": {
     "delete_cmd_postfix": ") ",
     "delete_cmd_prefix": "rm(",
     "library": "var_list.r",
     "varRefreshCmd": "cat(var_dic_list()) "
    }
   },
   "types_to_exclude": [
    "module",
    "function",
    "builtin_function_or_method",
    "instance",
    "_Feature"
   ],
   "window_display": false
  }
 },
 "nbformat": 4,
 "nbformat_minor": 5
}
